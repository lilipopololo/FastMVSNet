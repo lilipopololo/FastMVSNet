{
 "cells": [
  {
   "cell_type": "code",
   "execution_count": null,
   "metadata": {
    "collapsed": true,
    "pycharm": {
     "is_executing": true
    }
   },
   "outputs": [],
   "source": [
    "import torch\n",
    "import os\n",
    "from torch.utils.data import Dataset, DataLoader\n",
    "class testDataset(Dataset):\n",
    "    # mean = torch.tensor([1.97145182, -1.52387525, 651.07223895])\n",
    "    # std = torch.tensor([84.45612252, 93.22252387, 80.08551226])\n",
    "    \n",
    "    def __init__(self,rootdir,num_view,interval_scale=None,num_virtual_plane=None):\n",
    "        self.rootdir = rootdir\n",
    "        self.num_view = num_view\n",
    "        self.interval_scale = interval_scale\n",
    "        self.num_virtual_plane = num_virtual_plane\n",
    "        self.paths = self._load_dataset(num_view)\n",
    "    def __getitem__(self, index):\n",
    "        \n",
    "        pass\n",
    "    def __len__(self):\n",
    "        return len(self.paths)\n",
    "    def _load_dataset(self,num_view):\n",
    "        paths=[]\n",
    "        path={}\n",
    "\n",
    "        image_folder = self.root_dir + \"/Rectified/\"\n",
    "        cam_folder = self.root_dir + \"/Cameras/\"\n",
    "        depth_folder = self.root_dir + \"/Depths/\"\n",
    "        for viewnum in num_view:\n",
    "            image_file=image_folder + \"/{:01d}.jpg\".format(viewnum)\n",
    "            cam_file=cam_folder + \"/{:01d}.jpg\".format(viewnum)\n",
    "            depth_file=depth_folder + \"/{:01d}.jpg\".format(viewnum)\n",
    "            path[\"image_file\"] = image_file\n",
    "            path[\"cam_file\"] = cam_file\n",
    "            path[\"depth_file\"] = depth_file\n",
    "            paths.append(path)        \n",
    "        \n",
    "        return paths"
   ]
  },
  {
   "cell_type": "code",
   "execution_count": null,
   "outputs": [],
   "source": [
    "\n",
    "if __name__==\"main\":\n",
    "    root_path=\"E:\\dataset\\dtu_training\\dtu_training\\mvs_training\\dtu\"\n",
    "    dataset = testDataset()\n",
    "    for i,(data,label) in enumerate(dataset):\n",
    "        pass"
   ],
   "metadata": {
    "collapsed": false,
    "pycharm": {
     "name": "#%%\n"
    }
   }
  }
 ],
 "metadata": {
  "kernelspec": {
   "display_name": "Python 3",
   "language": "python",
   "name": "python3"
  },
  "language_info": {
   "codemirror_mode": {
    "name": "ipython",
    "version": 2
   },
   "file_extension": ".py",
   "mimetype": "text/x-python",
   "name": "python",
   "nbconvert_exporter": "python",
   "pygments_lexer": "ipython2",
   "version": "2.7.6"
  },
  "pycharm": {
   "stem_cell": {
    "cell_type": "raw",
    "source": [],
    "metadata": {
     "collapsed": false
    }
   }
  }
 },
 "nbformat": 4,
 "nbformat_minor": 0
}